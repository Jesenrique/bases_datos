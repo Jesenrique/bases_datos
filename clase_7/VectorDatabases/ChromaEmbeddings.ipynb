{
 "cells": [
  {
   "cell_type": "code",
   "execution_count": 1,
   "metadata": {},
   "outputs": [],
   "source": [
    "import chromadb\n",
    "import pandas as pd"
   ]
  },
  {
   "cell_type": "code",
   "execution_count": 2,
   "metadata": {},
   "outputs": [],
   "source": [
    "chroma_client = chromadb.Client()"
   ]
  },
  {
   "cell_type": "markdown",
   "metadata": {},
   "source": [
    "En caso que se desee persistir la base de datos"
   ]
  },
  {
   "cell_type": "code",
   "execution_count": null,
   "metadata": {},
   "outputs": [],
   "source": [
    "# from chromadb.config import Settings\n",
    "# chroma_client = chromadb.Client(\n",
    "#     Settings(\n",
    "#         persist_directory='my_personal_vector_db',\n",
    "#     )\n",
    "# )"
   ]
  },
  {
   "cell_type": "markdown",
   "metadata": {},
   "source": [
    "Nombramos la colección que vamos a utilizar como \"my_news\""
   ]
  },
  {
   "cell_type": "code",
   "execution_count": 3,
   "metadata": {},
   "outputs": [],
   "source": [
    "collection_name = \"my_news\""
   ]
  },
  {
   "cell_type": "markdown",
   "metadata": {},
   "source": [
    "**chroma_client.list_collections()** retorna una lista con información acerca de las colecciones vigentes dentro de la base persistida\n",
    "\n",
    "En caso que la colección ya exista, y que exista una con el mismo nombre que aquella que intentamos crea, va a ser eliminada para comenzar el proceso nuevamente partiendo desde el inicio"
   ]
  },
  {
   "cell_type": "code",
   "execution_count": 4,
   "metadata": {},
   "outputs": [
    {
     "name": "stdout",
     "output_type": "stream",
     "text": [
      "Creating collection: 'my_news'\n"
     ]
    }
   ],
   "source": [
    "if len(chroma_client.list_collections()) > 0 and collection_name in [chroma_client.list_collections()[0].name]:\n",
    "    chroma_client.delete_collection(name=collection_name)\n",
    "else:\n",
    "    print(f\"Creating collection: '{collection_name}'\")\n",
    "    collection = chroma_client.create_collection(name=collection_name)\n"
   ]
  },
  {
   "cell_type": "markdown",
   "metadata": {},
   "source": [
    "Para embeddings customizados, es necesario crear una nueva **función de embedding** que permita procesar texto\n",
    "\n",
    "```python\n",
    "    collection = chroma_client.create_collection(name=\"my_collection\", embedding_function=emb_fn)\n",
    "```\n"
   ]
  },
  {
   "cell_type": "code",
   "execution_count": 5,
   "metadata": {},
   "outputs": [],
   "source": [
    "pdf = pd.read_csv(\"labelled_newscatcher_coloured.csv\", index_col=0)"
   ]
  },
  {
   "cell_type": "code",
   "execution_count": 6,
   "metadata": {},
   "outputs": [],
   "source": [
    "pdf_subset = pdf.head(1000)"
   ]
  },
  {
   "cell_type": "code",
   "execution_count": 7,
   "metadata": {},
   "outputs": [
    {
     "data": {
      "text/html": [
       "<div>\n",
       "<style scoped>\n",
       "    .dataframe tbody tr th:only-of-type {\n",
       "        vertical-align: middle;\n",
       "    }\n",
       "\n",
       "    .dataframe tbody tr th {\n",
       "        vertical-align: top;\n",
       "    }\n",
       "\n",
       "    .dataframe thead th {\n",
       "        text-align: right;\n",
       "    }\n",
       "</style>\n",
       "<table border=\"1\" class=\"dataframe\">\n",
       "  <thead>\n",
       "    <tr style=\"text-align: right;\">\n",
       "      <th></th>\n",
       "      <th>topic</th>\n",
       "      <th>link</th>\n",
       "      <th>domain</th>\n",
       "      <th>published_date</th>\n",
       "      <th>title</th>\n",
       "      <th>lang</th>\n",
       "      <th>id</th>\n",
       "    </tr>\n",
       "  </thead>\n",
       "  <tbody>\n",
       "    <tr>\n",
       "      <th>0</th>\n",
       "      <td>SCIENCE</td>\n",
       "      <td>https://www.eurekalert.org/pub_releases/2020-0...</td>\n",
       "      <td>eurekalert.org</td>\n",
       "      <td>2020-08-06 13:59:45</td>\n",
       "      <td>A closer look at water-splitting's solar fuel ...</td>\n",
       "      <td>en</td>\n",
       "      <td>0</td>\n",
       "    </tr>\n",
       "    <tr>\n",
       "      <th>1</th>\n",
       "      <td>SCIENCE</td>\n",
       "      <td>https://www.pulse.ng/news/world/an-irresistibl...</td>\n",
       "      <td>pulse.ng</td>\n",
       "      <td>2020-08-12 15:14:19</td>\n",
       "      <td>An irresistible scent makes locusts swarm, stu...</td>\n",
       "      <td>en</td>\n",
       "      <td>1</td>\n",
       "    </tr>\n",
       "    <tr>\n",
       "      <th>2</th>\n",
       "      <td>SCIENCE</td>\n",
       "      <td>https://www.express.co.uk/news/science/1322607...</td>\n",
       "      <td>express.co.uk</td>\n",
       "      <td>2020-08-13 21:01:00</td>\n",
       "      <td>Artificial intelligence warning: AI will know ...</td>\n",
       "      <td>en</td>\n",
       "      <td>2</td>\n",
       "    </tr>\n",
       "    <tr>\n",
       "      <th>3</th>\n",
       "      <td>SCIENCE</td>\n",
       "      <td>https://www.ndtv.com/world-news/glaciers-could...</td>\n",
       "      <td>ndtv.com</td>\n",
       "      <td>2020-08-03 22:18:26</td>\n",
       "      <td>Glaciers Could Have Sculpted Mars Valleys: Study</td>\n",
       "      <td>en</td>\n",
       "      <td>3</td>\n",
       "    </tr>\n",
       "    <tr>\n",
       "      <th>4</th>\n",
       "      <td>SCIENCE</td>\n",
       "      <td>https://www.thesun.ie/tech/5742187/perseid-met...</td>\n",
       "      <td>thesun.ie</td>\n",
       "      <td>2020-08-12 19:54:36</td>\n",
       "      <td>Perseid meteor shower 2020: What time and how ...</td>\n",
       "      <td>en</td>\n",
       "      <td>4</td>\n",
       "    </tr>\n",
       "    <tr>\n",
       "      <th>...</th>\n",
       "      <td>...</td>\n",
       "      <td>...</td>\n",
       "      <td>...</td>\n",
       "      <td>...</td>\n",
       "      <td>...</td>\n",
       "      <td>...</td>\n",
       "      <td>...</td>\n",
       "    </tr>\n",
       "    <tr>\n",
       "      <th>995</th>\n",
       "      <td>TECHNOLOGY</td>\n",
       "      <td>https://www.androidcentral.com/mate-40-will-be...</td>\n",
       "      <td>androidcentral.com</td>\n",
       "      <td>2020-08-07 17:12:33</td>\n",
       "      <td>The Mate 40 will be the last Huawei phone with...</td>\n",
       "      <td>en</td>\n",
       "      <td>995</td>\n",
       "    </tr>\n",
       "    <tr>\n",
       "      <th>996</th>\n",
       "      <td>SCIENCE</td>\n",
       "      <td>https://www.cnn.com/2020/08/17/africa/stone-ag...</td>\n",
       "      <td>cnn.com</td>\n",
       "      <td>2020-08-17 17:10:00</td>\n",
       "      <td>Early humans knew how to make comfy, pest-free...</td>\n",
       "      <td>en</td>\n",
       "      <td>996</td>\n",
       "    </tr>\n",
       "    <tr>\n",
       "      <th>997</th>\n",
       "      <td>HEALTH</td>\n",
       "      <td>https://www.tenterfieldstar.com.au/story/68776...</td>\n",
       "      <td>tenterfieldstar.com.au</td>\n",
       "      <td>2020-08-13 03:26:06</td>\n",
       "      <td>Regional Vic set for virus testing blitz</td>\n",
       "      <td>en</td>\n",
       "      <td>997</td>\n",
       "    </tr>\n",
       "    <tr>\n",
       "      <th>998</th>\n",
       "      <td>HEALTH</td>\n",
       "      <td>https://news.sky.com/story/coronavirus-trials-...</td>\n",
       "      <td>news.sky.com</td>\n",
       "      <td>2020-08-13 13:22:58</td>\n",
       "      <td>Coronavirus: Trials of second contact-tracing ...</td>\n",
       "      <td>en</td>\n",
       "      <td>998</td>\n",
       "    </tr>\n",
       "    <tr>\n",
       "      <th>999</th>\n",
       "      <td>HEALTH</td>\n",
       "      <td>https://www.techexplorist.com/study-demonstrat...</td>\n",
       "      <td>techexplorist.com</td>\n",
       "      <td>2020-08-10 07:47:00</td>\n",
       "      <td>The study demonstrates new treatment for prion...</td>\n",
       "      <td>en</td>\n",
       "      <td>999</td>\n",
       "    </tr>\n",
       "  </tbody>\n",
       "</table>\n",
       "<p>1000 rows × 7 columns</p>\n",
       "</div>"
      ],
      "text/plain": [
       "          topic                                               link  \\\n",
       "0       SCIENCE  https://www.eurekalert.org/pub_releases/2020-0...   \n",
       "1       SCIENCE  https://www.pulse.ng/news/world/an-irresistibl...   \n",
       "2       SCIENCE  https://www.express.co.uk/news/science/1322607...   \n",
       "3       SCIENCE  https://www.ndtv.com/world-news/glaciers-could...   \n",
       "4       SCIENCE  https://www.thesun.ie/tech/5742187/perseid-met...   \n",
       "..          ...                                                ...   \n",
       "995  TECHNOLOGY  https://www.androidcentral.com/mate-40-will-be...   \n",
       "996     SCIENCE  https://www.cnn.com/2020/08/17/africa/stone-ag...   \n",
       "997      HEALTH  https://www.tenterfieldstar.com.au/story/68776...   \n",
       "998      HEALTH  https://news.sky.com/story/coronavirus-trials-...   \n",
       "999      HEALTH  https://www.techexplorist.com/study-demonstrat...   \n",
       "\n",
       "                     domain       published_date  \\\n",
       "0            eurekalert.org  2020-08-06 13:59:45   \n",
       "1                  pulse.ng  2020-08-12 15:14:19   \n",
       "2             express.co.uk  2020-08-13 21:01:00   \n",
       "3                  ndtv.com  2020-08-03 22:18:26   \n",
       "4                 thesun.ie  2020-08-12 19:54:36   \n",
       "..                      ...                  ...   \n",
       "995      androidcentral.com  2020-08-07 17:12:33   \n",
       "996                 cnn.com  2020-08-17 17:10:00   \n",
       "997  tenterfieldstar.com.au  2020-08-13 03:26:06   \n",
       "998            news.sky.com  2020-08-13 13:22:58   \n",
       "999       techexplorist.com  2020-08-10 07:47:00   \n",
       "\n",
       "                                                 title lang   id  \n",
       "0    A closer look at water-splitting's solar fuel ...   en    0  \n",
       "1    An irresistible scent makes locusts swarm, stu...   en    1  \n",
       "2    Artificial intelligence warning: AI will know ...   en    2  \n",
       "3     Glaciers Could Have Sculpted Mars Valleys: Study   en    3  \n",
       "4    Perseid meteor shower 2020: What time and how ...   en    4  \n",
       "..                                                 ...  ...  ...  \n",
       "995  The Mate 40 will be the last Huawei phone with...   en  995  \n",
       "996  Early humans knew how to make comfy, pest-free...   en  996  \n",
       "997           Regional Vic set for virus testing blitz   en  997  \n",
       "998  Coronavirus: Trials of second contact-tracing ...   en  998  \n",
       "999  The study demonstrates new treatment for prion...   en  999  \n",
       "\n",
       "[1000 rows x 7 columns]"
      ]
     },
     "execution_count": 7,
     "metadata": {},
     "output_type": "execute_result"
    }
   ],
   "source": [
    "pdf_subset"
   ]
  },
  {
   "cell_type": "markdown",
   "metadata": {},
   "source": [
    "## Operaciones CRUD\n",
    "Sobre esta base de datos vamos a utilizar operaciones CRUD (Create, Read, Update & Delete) con sintaxis similar a MongoDB\n",
    "\n",
    "Al momento de insertar documentos sobre una base de datos de vectores, se insertan los documentos que van a ser vectorizados, en conjunto con los IDs que van a ser usados para identificar dichos documentos y la metadata asociada a los mismos\n",
    "\n",
    "Así como pueden insertarse documentos, Chromadb soporta la inserción de **embeddings** de forma directa sin necesidad de especificar algún documento, esto resulta útil para realizar búsquedas con texto sobre bases de datos de imágenes con modelos como [CLIP](https://huggingface.co/openai/clip-vit-large-patch14) capaces de manejar ambos tipos de información (texto y visual)"
   ]
  },
  {
   "cell_type": "code",
   "execution_count": 8,
   "metadata": {},
   "outputs": [
    {
     "name": "stderr",
     "output_type": "stream",
     "text": [
      "C:\\Users\\Jesus\\.cache\\chroma\\onnx_models\\all-MiniLM-L6-v2\\onnx.tar.gz: 100%|██████████| 79.3M/79.3M [00:11<00:00, 7.42MiB/s]\n"
     ]
    }
   ],
   "source": [
    "collection.add(\n",
    "    documents=pdf_subset[\"title\"][:100].to_list(),\n",
    "    metadatas=[{\"topic\": topic} for topic in pdf_subset[\"topic\"][:100].tolist()],\n",
    "    ids=[f\"id{x}\" for x in range(100)],\n",
    ")"
   ]
  },
  {
   "cell_type": "code",
   "execution_count": 9,
   "metadata": {},
   "outputs": [
    {
     "name": "stdout",
     "output_type": "stream",
     "text": [
      "{\n",
      "    \"ids\": [\n",
      "        [\n",
      "            \"id72\",\n",
      "            \"id7\",\n",
      "            \"id30\",\n",
      "            \"id26\",\n",
      "            \"id23\",\n",
      "            \"id76\",\n",
      "            \"id69\",\n",
      "            \"id40\",\n",
      "            \"id47\",\n",
      "            \"id75\"\n",
      "        ]\n",
      "    ],\n",
      "    \"distances\": [\n",
      "        [\n",
      "            1.225035309791565,\n",
      "            1.3089773654937744,\n",
      "            1.391038179397583,\n",
      "            1.4064621925354004,\n",
      "            1.4391297101974487,\n",
      "            1.4898790121078491,\n",
      "            1.572824239730835,\n",
      "            1.5738128423690796,\n",
      "            1.5835297107696533,\n",
      "            1.5864628553390503\n",
      "        ]\n",
      "    ],\n",
      "    \"metadatas\": [\n",
      "        [\n",
      "            {\n",
      "                \"topic\": \"TECHNOLOGY\"\n",
      "            },\n",
      "            {\n",
      "                \"topic\": \"SCIENCE\"\n",
      "            },\n",
      "            {\n",
      "                \"topic\": \"SCIENCE\"\n",
      "            },\n",
      "            {\n",
      "                \"topic\": \"SCIENCE\"\n",
      "            },\n",
      "            {\n",
      "                \"topic\": \"SCIENCE\"\n",
      "            },\n",
      "            {\n",
      "                \"topic\": \"SCIENCE\"\n",
      "            },\n",
      "            {\n",
      "                \"topic\": \"SCIENCE\"\n",
      "            },\n",
      "            {\n",
      "                \"topic\": \"SCIENCE\"\n",
      "            },\n",
      "            {\n",
      "                \"topic\": \"SCIENCE\"\n",
      "            },\n",
      "            {\n",
      "                \"topic\": \"SCIENCE\"\n",
      "            }\n",
      "        ]\n",
      "    ],\n",
      "    \"embeddings\": null,\n",
      "    \"documents\": [\n",
      "        [\n",
      "            \"Beck teams up with NASA and AI for 'Hyperspace' visual album experience\",\n",
      "            \"Orbital space tourism set for rebirth in 2021\",\n",
      "            \"NASA drops \\\"insensitive\\\" nicknames for cosmic objects\",\n",
      "            \"\\u2018It came alive:\\u2019 NASA astronauts describe experiencing splashdown in SpaceX Dragon\",\n",
      "            \"Hubble Uses Moon As \\u201cMirror\\u201d to Study Earth\\u2019s Atmosphere \\u2013 Proxy in Search of Potentially Habitable Planets Around Other Stars\",\n",
      "            \"Australia's small yet crucial part in the mission to find life on Mars\",\n",
      "            \"NASA Astronauts in SpaceX Capsule Splashdown in Gulf Of Mexico\",\n",
      "            \"SpaceX's Starship spacecraft saw 150 meters high\",\n",
      "            \"NASA\\u2019s InSight lander shows what\\u2019s beneath Mars\\u2019 surface\",\n",
      "            \"Alien base on Mercury: ET hunters claim to find huge UFO\"\n",
      "        ]\n",
      "    ]\n",
      "}\n"
     ]
    }
   ],
   "source": [
    "import json\n",
    "\n",
    "results = collection.query(\n",
    "    query_texts=[\"space\"],\n",
    "    # query_texts=[\"espacio\"],\n",
    "    n_results=10\n",
    ")\n",
    "\n",
    "print(json.dumps(results, indent=4))"
   ]
  },
  {
   "cell_type": "code",
   "execution_count": 10,
   "metadata": {},
   "outputs": [
    {
     "name": "stdout",
     "output_type": "stream",
     "text": [
      "{\n",
      "    \"ids\": [\n",
      "        [\n",
      "            \"id5\",\n",
      "            \"id11\",\n",
      "            \"id58\"\n",
      "        ]\n",
      "    ],\n",
      "    \"distances\": [\n",
      "        [\n",
      "            1.319362759590149,\n",
      "            1.4891374111175537,\n",
      "            1.5543259382247925\n",
      "        ]\n",
      "    ],\n",
      "    \"metadatas\": [\n",
      "        [\n",
      "            {\n",
      "                \"topic\": \"SCIENCE\"\n",
      "            },\n",
      "            {\n",
      "                \"topic\": \"SCIENCE\"\n",
      "            },\n",
      "            {\n",
      "                \"topic\": \"SCIENCE\"\n",
      "            }\n",
      "        ]\n",
      "    ],\n",
      "    \"embeddings\": null,\n",
      "    \"documents\": [\n",
      "        [\n",
      "            \"NASA Releases In-Depth Map of Beirut Explosion Damage\",\n",
      "            \"NASA Finds Ammonia-Linked 'Mushballs' and 'Shallow Lightning' on Jupiter\",\n",
      "            \"Asteroid 29075 1950 DA would be the greatest catastrophe for Earth, Tsunami of 400 toes excessive waves\"\n",
      "        ]\n",
      "    ]\n",
      "}\n"
     ]
    }
   ],
   "source": [
    "import json\n",
    "\n",
    "results = collection.query(\n",
    "    query_texts=[\"bombs\"],\n",
    "    n_results=3\n",
    ")\n",
    "\n",
    "print(json.dumps(results, indent=4))"
   ]
  },
  {
   "cell_type": "code",
   "execution_count": 11,
   "metadata": {},
   "outputs": [
    {
     "data": {
      "text/plain": [
       "{'ids': [['id7',\n",
       "   'id30',\n",
       "   'id26',\n",
       "   'id23',\n",
       "   'id76',\n",
       "   'id69',\n",
       "   'id40',\n",
       "   'id47',\n",
       "   'id75',\n",
       "   'id52']],\n",
       " 'distances': [[1.3089773654937744,\n",
       "   1.391038179397583,\n",
       "   1.4064621925354004,\n",
       "   1.4391297101974487,\n",
       "   1.4898790121078491,\n",
       "   1.572824239730835,\n",
       "   1.5738128423690796,\n",
       "   1.5835297107696533,\n",
       "   1.5864628553390503,\n",
       "   1.59842848777771]],\n",
       " 'metadatas': [[{'topic': 'SCIENCE'},\n",
       "   {'topic': 'SCIENCE'},\n",
       "   {'topic': 'SCIENCE'},\n",
       "   {'topic': 'SCIENCE'},\n",
       "   {'topic': 'SCIENCE'},\n",
       "   {'topic': 'SCIENCE'},\n",
       "   {'topic': 'SCIENCE'},\n",
       "   {'topic': 'SCIENCE'},\n",
       "   {'topic': 'SCIENCE'},\n",
       "   {'topic': 'SCIENCE'}]],\n",
       " 'embeddings': None,\n",
       " 'documents': [['Orbital space tourism set for rebirth in 2021',\n",
       "   'NASA drops \"insensitive\" nicknames for cosmic objects',\n",
       "   '‘It came alive:’ NASA astronauts describe experiencing splashdown in SpaceX Dragon',\n",
       "   'Hubble Uses Moon As “Mirror” to Study Earth’s Atmosphere – Proxy in Search of Potentially Habitable Planets Around Other Stars',\n",
       "   \"Australia's small yet crucial part in the mission to find life on Mars\",\n",
       "   'NASA Astronauts in SpaceX Capsule Splashdown in Gulf Of Mexico',\n",
       "   \"SpaceX's Starship spacecraft saw 150 meters high\",\n",
       "   'NASA’s InSight lander shows what’s beneath Mars’ surface',\n",
       "   'Alien base on Mercury: ET hunters claim to find huge UFO',\n",
       "   'SpaceX Crew-1 mission with NASA, first fully operational crewed mission to space to launch in October']]}"
      ]
     },
     "execution_count": 11,
     "metadata": {},
     "output_type": "execute_result"
    }
   ],
   "source": [
    "collection.query(\n",
    "    query_texts=[\"space\"],\n",
    "    # en el caso de operaciones de filtrado usando  \"where\", \n",
    "    # pueden darse operadores $and, $or, $ge, etc, de la misma forma que se dieron con MongoDB\n",
    "    where={\"topic\": \"SCIENCE\"}, \n",
    "    n_results=10,\n",
    ")"
   ]
  },
  {
   "cell_type": "markdown",
   "metadata": {},
   "source": [
    "Borramos el primer elemento de la colección"
   ]
  },
  {
   "cell_type": "code",
   "execution_count": 12,
   "metadata": {},
   "outputs": [],
   "source": [
    "collection.delete(\n",
    "    ids=[\"id0\"],\n",
    ")"
   ]
  },
  {
   "cell_type": "markdown",
   "metadata": {},
   "source": [
    "Verificamos que ya no se encuentra disponible"
   ]
  },
  {
   "cell_type": "code",
   "execution_count": 13,
   "metadata": {},
   "outputs": [
    {
     "data": {
      "text/plain": [
       "{'ids': [], 'embeddings': None, 'metadatas': [], 'documents': []}"
      ]
     },
     "execution_count": 13,
     "metadata": {},
     "output_type": "execute_result"
    }
   ],
   "source": [
    "collection.get(\n",
    "    ids=[\"id0\"],\n",
    ")"
   ]
  },
  {
   "cell_type": "markdown",
   "metadata": {},
   "source": [
    "Ahora realizamos un ejemplo de actualización de un documento"
   ]
  },
  {
   "cell_type": "code",
   "execution_count": 14,
   "metadata": {},
   "outputs": [
    {
     "data": {
      "text/plain": [
       "{'ids': ['id2'],\n",
       " 'embeddings': None,\n",
       " 'metadatas': [{'topic': 'SCIENCE'}],\n",
       " 'documents': ['Artificial intelligence warning: AI will know us better than we know ourselves']}"
      ]
     },
     "execution_count": 14,
     "metadata": {},
     "output_type": "execute_result"
    }
   ],
   "source": [
    "collection.get(\n",
    "    ids=[\"id2\"],\n",
    ")"
   ]
  },
  {
   "cell_type": "markdown",
   "metadata": {},
   "source": [
    "Para el documento 2, vamos a cambiar su tópico de \"SCIENCE\" a \"TECHNOLOGY\""
   ]
  },
  {
   "cell_type": "code",
   "execution_count": 15,
   "metadata": {},
   "outputs": [],
   "source": [
    "collection.update(\n",
    "    ids=[\"id2\"],\n",
    "    metadatas={\"topic\": \"TECHNOLOGY\"}\n",
    ")"
   ]
  },
  {
   "cell_type": "markdown",
   "metadata": {},
   "source": [
    "Verificamos que el mismo haya cambiado"
   ]
  },
  {
   "cell_type": "code",
   "execution_count": 16,
   "metadata": {},
   "outputs": [
    {
     "data": {
      "text/plain": [
       "{'ids': ['id2'],\n",
       " 'embeddings': None,\n",
       " 'metadatas': [{'topic': 'TECHNOLOGY'}],\n",
       " 'documents': ['Artificial intelligence warning: AI will know us better than we know ourselves']}"
      ]
     },
     "execution_count": 16,
     "metadata": {},
     "output_type": "execute_result"
    }
   ],
   "source": [
    "collection.get(\n",
    "    ids=[\"id2\"],\n",
    ")"
   ]
  },
  {
   "cell_type": "markdown",
   "metadata": {},
   "source": [
    "Ahora se va a armar un pipeline de Q&A sencillo utilizando como fuente de datos, la base de datos que acabamos de crear con ChromaDB.\n",
    "\n",
    "El hito es poder proveer de contexto a algún modelo generativo de lenguaje (en este caso en particular a GPT2) tratando de eficientizar el performance del modelo y tratar de acortar la ventana de contexto necesaria para que el modelo pueda funcionar correctamente\n",
    "\n",
    "Recordar que GPT2 es una versión gratuita y un modelo antiguo de GPT4, no es de esperar que cuente con el mismo performance que modelos como GPT3 en adelante"
   ]
  },
  {
   "cell_type": "code",
   "execution_count": 17,
   "metadata": {},
   "outputs": [
    {
     "name": "stderr",
     "output_type": "stream",
     "text": [
      "c:\\Users\\Jesus\\Documents\\CEIA\\Base de datos\\BDIA\\env\\Lib\\site-packages\\tqdm\\auto.py:21: TqdmWarning: IProgress not found. Please update jupyter and ipywidgets. See https://ipywidgets.readthedocs.io/en/stable/user_install.html\n",
      "  from .autonotebook import tqdm as notebook_tqdm\n"
     ]
    }
   ],
   "source": [
    "from transformers import AutoTokenizer, AutoModelForCausalLM, pipeline"
   ]
  },
  {
   "cell_type": "code",
   "execution_count": 18,
   "metadata": {},
   "outputs": [
    {
     "name": "stderr",
     "output_type": "stream",
     "text": [
      "Downloading (…)lve/main/config.json: 100%|██████████| 665/665 [00:00<00:00, 665kB/s]\n",
      "c:\\Users\\Jesus\\Documents\\CEIA\\Base de datos\\BDIA\\env\\Lib\\site-packages\\huggingface_hub\\file_download.py:137: UserWarning: `huggingface_hub` cache-system uses symlinks by default to efficiently store duplicated files but your machine does not support them in C:\\Users\\Jesus\\.cache\\huggingface\\hub. Caching files will still work but in a degraded version that might require more space on your disk. This warning can be disabled by setting the `HF_HUB_DISABLE_SYMLINKS_WARNING` environment variable. For more details, see https://huggingface.co/docs/huggingface_hub/how-to-cache#limitations.\n",
      "To support symlinks on Windows, you either need to activate Developer Mode or to run Python as an administrator. In order to see activate developer mode, see this article: https://docs.microsoft.com/en-us/windows/apps/get-started/enable-your-device-for-development\n",
      "  warnings.warn(message)\n",
      "Downloading (…)olve/main/vocab.json: 100%|██████████| 1.04M/1.04M [00:00<00:00, 4.91MB/s]\n",
      "Downloading (…)olve/main/merges.txt: 100%|██████████| 456k/456k [00:00<00:00, 3.00MB/s]\n",
      "Downloading (…)/main/tokenizer.json: 100%|██████████| 1.36M/1.36M [00:00<00:00, 8.30MB/s]\n",
      "Downloading model.safetensors: 100%|██████████| 548M/548M [01:13<00:00, 7.50MB/s] \n",
      "Downloading (…)neration_config.json: 100%|██████████| 124/124 [00:00<?, ?B/s] \n"
     ]
    }
   ],
   "source": [
    "model_id = \"gpt2\"\n",
    "tokenizer = AutoTokenizer.from_pretrained(\n",
    "    model_id,\n",
    "    # cache_dir='cache'\n",
    ")\n",
    "\n",
    "lm_model = AutoModelForCausalLM.from_pretrained(\n",
    "    model_id,\n",
    "    # cache_dir='cache',\n",
    ")\n",
    "\n",
    "pipe = pipeline(\n",
    "    \"text-generation\",\n",
    "    model=lm_model,\n",
    "    tokenizer=tokenizer,\n",
    "    max_new_tokens=512,\n",
    "    device_map=\"auto\",\n",
    ")"
   ]
  },
  {
   "cell_type": "code",
   "execution_count": 19,
   "metadata": {},
   "outputs": [
    {
     "data": {
      "text/plain": [
       "{'ids': [['id5', 'id11', 'id58']],\n",
       " 'distances': [[1.319362759590149, 1.4891374111175537, 1.5543259382247925]],\n",
       " 'metadatas': [[{'topic': 'SCIENCE'},\n",
       "   {'topic': 'SCIENCE'},\n",
       "   {'topic': 'SCIENCE'}]],\n",
       " 'embeddings': None,\n",
       " 'documents': [['NASA Releases In-Depth Map of Beirut Explosion Damage',\n",
       "   \"NASA Finds Ammonia-Linked 'Mushballs' and 'Shallow Lightning' on Jupiter\",\n",
       "   'Asteroid 29075 1950 DA would be the greatest catastrophe for Earth, Tsunami of 400 toes excessive waves']]}"
      ]
     },
     "execution_count": 19,
     "metadata": {},
     "output_type": "execute_result"
    }
   ],
   "source": [
    "results"
   ]
  },
  {
   "cell_type": "code",
   "execution_count": 35,
   "metadata": {},
   "outputs": [
    {
     "name": "stdout",
     "output_type": "stream",
     "text": [
      "{\n",
      "    \"ids\": [\n",
      "        [\n",
      "            \"id88\",\n",
      "            \"id59\",\n",
      "            \"id81\",\n",
      "            \"id74\",\n",
      "            \"id78\",\n",
      "            \"id16\",\n",
      "            \"id87\",\n",
      "            \"id85\",\n",
      "            \"id57\",\n",
      "            \"id95\"\n",
      "        ]\n",
      "    ],\n",
      "    \"distances\": [\n",
      "        [\n",
      "            1.3868826627731323,\n",
      "            1.5048904418945312,\n",
      "            1.5120083093643188,\n",
      "            1.56318998336792,\n",
      "            1.6296792030334473,\n",
      "            1.6675820350646973,\n",
      "            1.6732923984527588,\n",
      "            1.685064673423767,\n",
      "            1.70607590675354,\n",
      "            1.723602294921875\n",
      "        ]\n",
      "    ],\n",
      "    \"metadatas\": [\n",
      "        [\n",
      "            {\n",
      "                \"topic\": \"TECHNOLOGY\"\n",
      "            },\n",
      "            {\n",
      "                \"topic\": \"TECHNOLOGY\"\n",
      "            },\n",
      "            {\n",
      "                \"topic\": \"TECHNOLOGY\"\n",
      "            },\n",
      "            {\n",
      "                \"topic\": \"TECHNOLOGY\"\n",
      "            },\n",
      "            {\n",
      "                \"topic\": \"TECHNOLOGY\"\n",
      "            },\n",
      "            {\n",
      "                \"topic\": \"SCIENCE\"\n",
      "            },\n",
      "            {\n",
      "                \"topic\": \"TECHNOLOGY\"\n",
      "            },\n",
      "            {\n",
      "                \"topic\": \"TECHNOLOGY\"\n",
      "            },\n",
      "            {\n",
      "                \"topic\": \"TECHNOLOGY\"\n",
      "            },\n",
      "            {\n",
      "                \"topic\": \"SCIENCE\"\n",
      "            }\n",
      "        ]\n",
      "    ],\n",
      "    \"embeddings\": null,\n",
      "    \"documents\": [\n",
      "        [\n",
      "            \"Nintendo profit soars as people play more games staying home during the pandemic\",\n",
      "            \"Fall Guys Is Giving Free Gifts To Anyone Who Has Opened The Game Before Tomorrow Morning\",\n",
      "            \"Music is big on Twitch. Now record labels want it to pay up\",\n",
      "            \"Blasphemous gets a new storyline, New Game Plus and more for free\",\n",
      "            \"Reaction: Sony Wants PS5 to Be the Best Place to Play, And It'll Open Its Wallet to Achieve It\",\n",
      "            \"Tradeoff between the eyes and nose helps flies find their niche\",\n",
      "            \"Samsung Galaxy Note 20 vs. iPhone 11 Pro: A Galaxy of competition\",\n",
      "            \"Tales of Runeterra \\u201cThe Vaulted Road\\u201d teases future LoR champions\",\n",
      "            \"The phone camera is king and the Note 20 Ultra wears the crown\\u2026for now\",\n",
      "            \"Kids Helpline says demand in Victoria for its counselling service rose 8% in July\"\n",
      "        ]\n",
      "    ]\n",
      "}\n"
     ]
    }
   ],
   "source": [
    "results = collection.query(\n",
    "    query_texts=[\"money\"],\n",
    "    # query_texts=[\"espacio\"],\n",
    "    n_results=10\n",
    ")\n",
    "\n",
    "print(json.dumps(results, indent=4))"
   ]
  },
  {
   "cell_type": "code",
   "execution_count": 37,
   "metadata": {},
   "outputs": [],
   "source": [
    "#question = \"What's the latest news on space development?\"\n",
    "question = \"What's the money?\""
   ]
  },
  {
   "cell_type": "markdown",
   "metadata": {},
   "source": [
    "Establecemos el contexto necesario para responder la pregunta del usuario"
   ]
  },
  {
   "cell_type": "code",
   "execution_count": 38,
   "metadata": {},
   "outputs": [
    {
     "name": "stdout",
     "output_type": "stream",
     "text": [
      "\n",
      "#Nintendo profit soars as people play more games staying home during the pandemic \n",
      "#Fall Guys Is Giving Free Gifts To Anyone Who Has Opened The Game Before Tomorrow Morning \n",
      "#Music is big on Twitch. Now record labels want it to pay up \n",
      "#Blasphemous gets a new storyline, New Game Plus and more for free \n",
      "#Reaction: Sony Wants PS5 to Be the Best Place to Play, And It'll Open Its Wallet to Achieve It \n",
      "#Tradeoff between the eyes and nose helps flies find their niche \n",
      "#Samsung Galaxy Note 20 vs. iPhone 11 Pro: A Galaxy of competition \n",
      "#Tales of Runeterra “The Vaulted Road” teases future LoR champions \n",
      "#The phone camera is king and the Note 20 Ultra wears the crown…for now \n",
      "#Kids Helpline says demand in Victoria for its counselling service rose 8% in July\n"
     ]
    }
   ],
   "source": [
    "context = \" \".join([f\"\\n#{str(i)}\" for i in results[\"documents\"][0]])\n",
    "print(context)"
   ]
  },
  {
   "cell_type": "code",
   "execution_count": 39,
   "metadata": {},
   "outputs": [
    {
     "name": "stdout",
     "output_type": "stream",
     "text": [
      "Relevant context: \n",
      "#Nintendo profit soars as people play more games staying home during the pandemic \n",
      "#Fall Guys Is Giving Free Gifts To Anyone Who Has Opened The Game Before Tomorrow Morning \n",
      "#Music is big on Twitch. Now record labels want it to pay up \n",
      "#Blasphemous gets a new storyline, New Game Plus and more for free \n",
      "#Reaction: Sony Wants PS5 to Be the Best Place to Play, And It'll Open Its Wallet to Achieve It \n",
      "#Tradeoff between the eyes and nose helps flies find their niche \n",
      "#Samsung Galaxy Note 20 vs. iPhone 11 Pro: A Galaxy of competition \n",
      "#Tales of Runeterra “The Vaulted Road” teases future LoR champions \n",
      "#The phone camera is king and the Note 20 Ultra wears the crown…for now \n",
      "#Kids Helpline says demand in Victoria for its counselling service rose 8% in July\n",
      "\n",
      " The user's question: What's the money?\n"
     ]
    }
   ],
   "source": [
    "prompt_template = f\"Relevant context: {context}\\n\\n The user's question: {question}\"\n",
    "print(prompt_template)"
   ]
  },
  {
   "cell_type": "code",
   "execution_count": 40,
   "metadata": {},
   "outputs": [
    {
     "name": "stderr",
     "output_type": "stream",
     "text": [
      "Setting `pad_token_id` to `eos_token_id`:50256 for open-end generation.\n"
     ]
    },
    {
     "name": "stdout",
     "output_type": "stream",
     "text": [
      "Relevant context: \n",
      "#Nintendo profit soars as people play more games staying home during the pandemic \n",
      "#Fall Guys Is Giving Free Gifts To Anyone Who Has Opened The Game Before Tomorrow Morning \n",
      "#Music is big on Twitch. Now record labels want it to pay up \n",
      "#Blasphemous gets a new storyline, New Game Plus and more for free \n",
      "#Reaction: Sony Wants PS5 to Be the Best Place to Play, And It'll Open Its Wallet to Achieve It \n",
      "#Tradeoff between the eyes and nose helps flies find their niche \n",
      "#Samsung Galaxy Note 20 vs. iPhone 11 Pro: A Galaxy of competition \n",
      "#Tales of Runeterra “The Vaulted Road” teases future LoR champions \n",
      "#The phone camera is king and the Note 20 Ultra wears the crown…for now \n",
      "#Kids Helpline says demand in Victoria for its counselling service rose 8% in July\n",
      "\n",
      " The user's question: What's the money? Does it make any sense?\n",
      "#In case you missed any of these, here's a video for you:\n",
      "\"We're here to help you out, that's all. We are helping you out in a number of ways, in how people care about their lives. We've put out many ways that we're supporting the community, we're supporting the social side. We have our own social media channels, we have our own forums, we have our own forums. We do our things in a way that no one could have done before so we're here to help you, we want you to know that, we're there to support people like you and we're here to help people at large. We are trying to understand, if you want to join in or have your voice heard, there's a number of ways that we can help at the same time as you. In all the ways we've been here to help you out there, we think it's great that people want to help us out so we're not gonna wait around the block or whatever.\n",
      "\"As long as people are going to have those sorts of services like that and they're not going to give these very specific offers to their service, we'll offer whatever you can imagine to them which is what we're going to be doing for all these reasons.\"\n",
      "—Sony\n",
      "As the global market continues to grow larger and ever more exclusive, we must continue to work to expand our partnerships while allowing more people into the fold. We think our products allow for both a more authentic experience, and a more inclusive experience. We're working hard to continue to take you to and learn about the game, and get you a better sense of what it's actually like.\n",
      "We appreciate your support for supporting us and if you want more info on the game, please feel free to post a link to your game in the comments section below.\n"
     ]
    }
   ],
   "source": [
    "lm_response = pipe(prompt_template)\n",
    "print(lm_response[0][\"generated_text\"])"
   ]
  },
  {
   "cell_type": "markdown",
   "metadata": {},
   "source": [
    "Para más información sobre como incorporar GPT4 y armar un chatbot de Q&A, visitar [Embeddings con OPEN AI](https://docs.trychroma.com/embeddings) para comprender cómo puede integrarse ChromaDB "
   ]
  }
 ],
 "metadata": {
  "kernelspec": {
   "display_name": "llm-env",
   "language": "python",
   "name": "python3"
  },
  "language_info": {
   "codemirror_mode": {
    "name": "ipython",
    "version": 3
   },
   "file_extension": ".py",
   "mimetype": "text/x-python",
   "name": "python",
   "nbconvert_exporter": "python",
   "pygments_lexer": "ipython3",
   "version": "3.11.1"
  },
  "orig_nbformat": 4
 },
 "nbformat": 4,
 "nbformat_minor": 2
}
