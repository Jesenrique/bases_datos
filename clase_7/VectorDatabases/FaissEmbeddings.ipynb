{
 "cells": [
  {
   "cell_type": "markdown",
   "metadata": {},
   "source": [
    "# Creación de un Entorno de Python\n",
    "\n",
    "En este documento, vamos a explicar cómo configurar un nuevo entorno de Python utilizando tanto `venv` como `conda`.\n",
    "\n",
    "## Usando venv\n",
    "\n",
    "`venv` es una herramienta que viene preinstalada con Python (versión 3.3 o superior) y permite crear entornos virtuales de Python aislados.\n",
    "\n",
    "### Pasos\n",
    "\n",
    "1. **Crear un entorno virtual:** Abre la terminal y ejecuta el siguiente comando en el directorio donde desees crear el entorno virtual.\n",
    "\n",
    "   ```bash\n",
    "   python3 -m venv nombre_del_entorno\n"
   ]
  },
  {
   "cell_type": "markdown",
   "metadata": {},
   "source": [
    "2. **Activar el entorno virtual:** Utiliza el siguiente comando para activar el entorno.\n",
    "\n",
    "\n",
    "  Linux/Mac:\n",
    "\n",
    "```bash\n",
    "    source nombre_del_entorno/bin/activate\n",
    "```\n",
    "\n",
    "\n",
    "   Windows:\n",
    "\n",
    "```bash\n",
    "    .\\nombre_del_entorno\\Scripts\\activate\n",
    "```\n"
   ]
  },
  {
   "cell_type": "markdown",
   "metadata": {},
   "source": [
    "3. **Instalar dependencias desde requirements.txt con pip:** Una vez activado el entorno, puedes instalar todas las dependencias necesarias desde un archivo `requirements.txt` utilizando:\n",
    "\n",
    "   ```bash\n",
    "   pip install -r requirements.txt"
   ]
  },
  {
   "cell_type": "markdown",
   "metadata": {},
   "source": [
    "4. **Desactivar el entorno virtual:** Para salir del entorno virtual, simplemente ejecuta:\n",
    "\n",
    "```bash\n",
    "   deactivate"
   ]
  },
  {
   "cell_type": "markdown",
   "metadata": {},
   "source": [
    "## Usando Conda\n",
    "conda es un sistema de gestión de paquetes y de entorno que puede instalar paquetes de diferentes lenguajes.\n",
    "\n",
    "### Pasos\n",
    "1. **Instalar Conda:** Puedes descargar e instalar Conda desde [este enlace](https://www.anaconda.com/download).\n",
    "\n",
    "2. **Crear un entorno Conda:** Para crear un nuevo entorno con Conda, abre la terminal y ejecuta:\n",
    "\n",
    "```bash\n",
    "    conda create --name nombre_del_entorno python=3.9 ipykernel\n",
    "```\n",
    "\n",
    "Para esta biblioteca, vamos a usar python 3.9 y para interactuar con Jupyter Notebooks vamos a usar \"ipykernel\" o \"jupyter\"\n",
    "\n",
    "3. **Activar el entorno Conda:** Utiliza el siguiente comando para activar el entorno.\n",
    "\n",
    "```bash\n",
    "    conda activate nombre_del_entorno\n",
    "```\n",
    "4. **Instalar dependencias desde requirements.txt con pip:** Al igual que con venv, puedes instalar las dependencias necesarias desde un archivo requirements.txt en el entorno Conda activado utilizando:\n",
    "```bash\n",
    "    pip install -r requirements.txt\n",
    "```\n",
    "\n",
    "5. Desactivar el entorno Conda: Para salir del entorno Conda, simplemente ejecuta:\n",
    "\n",
    "```bash\n",
    "    conda deactivate\n",
    "```"
   ]
  },
  {
   "cell_type": "markdown",
   "metadata": {},
   "source": [
    "Importamos las librerías necesarias"
   ]
  },
  {
   "cell_type": "code",
   "execution_count": 1,
   "metadata": {},
   "outputs": [
    {
     "name": "stderr",
     "output_type": "stream",
     "text": [
      "c:\\Users\\Jesus\\Documents\\CEIA\\Base de datos\\BDIA\\env\\Lib\\site-packages\\tqdm\\auto.py:21: TqdmWarning: IProgress not found. Please update jupyter and ipywidgets. See https://ipywidgets.readthedocs.io/en/stable/user_install.html\n",
      "  from .autonotebook import tqdm as notebook_tqdm\n"
     ]
    }
   ],
   "source": [
    "import pandas as pd\n",
    "from sentence_transformers import SentenceTransformer, InputExample\n",
    "import numpy as np\n",
    "import faiss"
   ]
  },
  {
   "cell_type": "markdown",
   "metadata": {},
   "source": [
    "# Newscatcher Dataset\n",
    "\n",
    "El conjunto de datos \"Newscatcher\" se refiere a una colección de noticias recopiladas de varias fuentes y medios de comunicación. Puede incluir información como el título de la noticia, la descripción, el contenido completo del artículo, la fecha de publicación, el autor y la URL de origen.\n",
    "\n",
    "La utilidad de este conjunto de datos radica en su aplicación en diversos campos como el análisis de sentimientos, la clasificación de noticias, el seguimiento de tendencias y temas emergentes, entre otros. Es especialmente útil en el procesamiento del lenguaje natural (NLP) y en el análisis de datos, donde se pueden aplicar técnicas de aprendizaje automático para extraer insights y patrones significativos.\n",
    "\n",
    "Este conjunto de datos puede encontrarse en diversos formatos y se puede personalizar para incluir noticias de temas específicos, regiones geográficas o periodos de tiempo.\n",
    "\n",
    "[Newscatcher GitHub](https://github.com/kotartemiy/newscatcher) proporciona bibliotecas para trabajar con este tipo de datos, facilitando la recopilación y el procesamiento de noticias de miles de fuentes confiables.\n"
   ]
  },
  {
   "cell_type": "code",
   "execution_count": 2,
   "metadata": {},
   "outputs": [],
   "source": [
    "pdf = pd.read_csv(f\"labelled_newscatcher_coloured.csv\", index_col=0)"
   ]
  },
  {
   "cell_type": "code",
   "execution_count": 3,
   "metadata": {},
   "outputs": [
    {
     "data": {
      "text/html": [
       "<div>\n",
       "<style scoped>\n",
       "    .dataframe tbody tr th:only-of-type {\n",
       "        vertical-align: middle;\n",
       "    }\n",
       "\n",
       "    .dataframe tbody tr th {\n",
       "        vertical-align: top;\n",
       "    }\n",
       "\n",
       "    .dataframe thead th {\n",
       "        text-align: right;\n",
       "    }\n",
       "</style>\n",
       "<table border=\"1\" class=\"dataframe\">\n",
       "  <thead>\n",
       "    <tr style=\"text-align: right;\">\n",
       "      <th></th>\n",
       "      <th>topic</th>\n",
       "      <th>link</th>\n",
       "      <th>domain</th>\n",
       "      <th>published_date</th>\n",
       "      <th>title</th>\n",
       "      <th>lang</th>\n",
       "      <th>id</th>\n",
       "    </tr>\n",
       "  </thead>\n",
       "  <tbody>\n",
       "    <tr>\n",
       "      <th>0</th>\n",
       "      <td>SCIENCE</td>\n",
       "      <td>https://www.eurekalert.org/pub_releases/2020-0...</td>\n",
       "      <td>eurekalert.org</td>\n",
       "      <td>2020-08-06 13:59:45</td>\n",
       "      <td>A closer look at water-splitting's solar fuel ...</td>\n",
       "      <td>en</td>\n",
       "      <td>0</td>\n",
       "    </tr>\n",
       "    <tr>\n",
       "      <th>1</th>\n",
       "      <td>SCIENCE</td>\n",
       "      <td>https://www.pulse.ng/news/world/an-irresistibl...</td>\n",
       "      <td>pulse.ng</td>\n",
       "      <td>2020-08-12 15:14:19</td>\n",
       "      <td>An irresistible scent makes locusts swarm, stu...</td>\n",
       "      <td>en</td>\n",
       "      <td>1</td>\n",
       "    </tr>\n",
       "    <tr>\n",
       "      <th>2</th>\n",
       "      <td>SCIENCE</td>\n",
       "      <td>https://www.express.co.uk/news/science/1322607...</td>\n",
       "      <td>express.co.uk</td>\n",
       "      <td>2020-08-13 21:01:00</td>\n",
       "      <td>Artificial intelligence warning: AI will know ...</td>\n",
       "      <td>en</td>\n",
       "      <td>2</td>\n",
       "    </tr>\n",
       "    <tr>\n",
       "      <th>3</th>\n",
       "      <td>SCIENCE</td>\n",
       "      <td>https://www.ndtv.com/world-news/glaciers-could...</td>\n",
       "      <td>ndtv.com</td>\n",
       "      <td>2020-08-03 22:18:26</td>\n",
       "      <td>Glaciers Could Have Sculpted Mars Valleys: Study</td>\n",
       "      <td>en</td>\n",
       "      <td>3</td>\n",
       "    </tr>\n",
       "    <tr>\n",
       "      <th>4</th>\n",
       "      <td>SCIENCE</td>\n",
       "      <td>https://www.thesun.ie/tech/5742187/perseid-met...</td>\n",
       "      <td>thesun.ie</td>\n",
       "      <td>2020-08-12 19:54:36</td>\n",
       "      <td>Perseid meteor shower 2020: What time and how ...</td>\n",
       "      <td>en</td>\n",
       "      <td>4</td>\n",
       "    </tr>\n",
       "    <tr>\n",
       "      <th>...</th>\n",
       "      <td>...</td>\n",
       "      <td>...</td>\n",
       "      <td>...</td>\n",
       "      <td>...</td>\n",
       "      <td>...</td>\n",
       "      <td>...</td>\n",
       "      <td>...</td>\n",
       "    </tr>\n",
       "    <tr>\n",
       "      <th>108769</th>\n",
       "      <td>NATION</td>\n",
       "      <td>https://www.vanguardngr.com/2020/08/pdp-govern...</td>\n",
       "      <td>vanguardngr.com</td>\n",
       "      <td>2020-08-08 02:40:00</td>\n",
       "      <td>PDP governors’ forum urges security agencies t...</td>\n",
       "      <td>en</td>\n",
       "      <td>108769</td>\n",
       "    </tr>\n",
       "    <tr>\n",
       "      <th>108770</th>\n",
       "      <td>BUSINESS</td>\n",
       "      <td>https://www.patentlyapple.com/patently-apple/2...</td>\n",
       "      <td>patentlyapple.com</td>\n",
       "      <td>2020-08-08 01:27:12</td>\n",
       "      <td>In Q2-20, Apple Dominated the Premium Smartpho...</td>\n",
       "      <td>en</td>\n",
       "      <td>108770</td>\n",
       "    </tr>\n",
       "    <tr>\n",
       "      <th>108771</th>\n",
       "      <td>HEALTH</td>\n",
       "      <td>https://www.belfastlive.co.uk/news/health/coro...</td>\n",
       "      <td>belfastlive.co.uk</td>\n",
       "      <td>2020-08-12 17:01:00</td>\n",
       "      <td>Coronavirus Northern Ireland: Full breakdown s...</td>\n",
       "      <td>en</td>\n",
       "      <td>108771</td>\n",
       "    </tr>\n",
       "    <tr>\n",
       "      <th>108772</th>\n",
       "      <td>ENTERTAINMENT</td>\n",
       "      <td>https://www.thenews.com.pk/latest/696364-paul-...</td>\n",
       "      <td>thenews.com.pk</td>\n",
       "      <td>2020-08-05 04:59:00</td>\n",
       "      <td>Paul McCartney details post-Beatles distress a...</td>\n",
       "      <td>en</td>\n",
       "      <td>108772</td>\n",
       "    </tr>\n",
       "    <tr>\n",
       "      <th>108773</th>\n",
       "      <td>SPORTS</td>\n",
       "      <td>https://www.balls.ie/football/shane-duffy-brig...</td>\n",
       "      <td>balls.ie</td>\n",
       "      <td>2020-08-09 10:25:26</td>\n",
       "      <td>Report: Talks Underway To Keep Shane Duffy In ...</td>\n",
       "      <td>en</td>\n",
       "      <td>108773</td>\n",
       "    </tr>\n",
       "  </tbody>\n",
       "</table>\n",
       "<p>108774 rows × 7 columns</p>\n",
       "</div>"
      ],
      "text/plain": [
       "                topic                                               link  \\\n",
       "0             SCIENCE  https://www.eurekalert.org/pub_releases/2020-0...   \n",
       "1             SCIENCE  https://www.pulse.ng/news/world/an-irresistibl...   \n",
       "2             SCIENCE  https://www.express.co.uk/news/science/1322607...   \n",
       "3             SCIENCE  https://www.ndtv.com/world-news/glaciers-could...   \n",
       "4             SCIENCE  https://www.thesun.ie/tech/5742187/perseid-met...   \n",
       "...               ...                                                ...   \n",
       "108769         NATION  https://www.vanguardngr.com/2020/08/pdp-govern...   \n",
       "108770       BUSINESS  https://www.patentlyapple.com/patently-apple/2...   \n",
       "108771         HEALTH  https://www.belfastlive.co.uk/news/health/coro...   \n",
       "108772  ENTERTAINMENT  https://www.thenews.com.pk/latest/696364-paul-...   \n",
       "108773         SPORTS  https://www.balls.ie/football/shane-duffy-brig...   \n",
       "\n",
       "                   domain       published_date  \\\n",
       "0          eurekalert.org  2020-08-06 13:59:45   \n",
       "1                pulse.ng  2020-08-12 15:14:19   \n",
       "2           express.co.uk  2020-08-13 21:01:00   \n",
       "3                ndtv.com  2020-08-03 22:18:26   \n",
       "4               thesun.ie  2020-08-12 19:54:36   \n",
       "...                   ...                  ...   \n",
       "108769    vanguardngr.com  2020-08-08 02:40:00   \n",
       "108770  patentlyapple.com  2020-08-08 01:27:12   \n",
       "108771  belfastlive.co.uk  2020-08-12 17:01:00   \n",
       "108772     thenews.com.pk  2020-08-05 04:59:00   \n",
       "108773           balls.ie  2020-08-09 10:25:26   \n",
       "\n",
       "                                                    title lang      id  \n",
       "0       A closer look at water-splitting's solar fuel ...   en       0  \n",
       "1       An irresistible scent makes locusts swarm, stu...   en       1  \n",
       "2       Artificial intelligence warning: AI will know ...   en       2  \n",
       "3        Glaciers Could Have Sculpted Mars Valleys: Study   en       3  \n",
       "4       Perseid meteor shower 2020: What time and how ...   en       4  \n",
       "...                                                   ...  ...     ...  \n",
       "108769  PDP governors’ forum urges security agencies t...   en  108769  \n",
       "108770  In Q2-20, Apple Dominated the Premium Smartpho...   en  108770  \n",
       "108771  Coronavirus Northern Ireland: Full breakdown s...   en  108771  \n",
       "108772  Paul McCartney details post-Beatles distress a...   en  108772  \n",
       "108773  Report: Talks Underway To Keep Shane Duffy In ...   en  108773  \n",
       "\n",
       "[108774 rows x 7 columns]"
      ]
     },
     "metadata": {},
     "output_type": "display_data"
    }
   ],
   "source": [
    "\n",
    "pdf[\"id\"] = pdf.index\n",
    "display(pdf)\n"
   ]
  },
  {
   "cell_type": "markdown",
   "metadata": {},
   "source": [
    "Para fines de este análisis, utilizaremos solo las primeras 1000 muestras del conjunto de datos \"Newscatcher\". Esta selección se hace con el objetivo de simplificar el proceso y permitir una exploración más rápida y eficiente de los datos. Limitar el análisis a un subconjunto más pequeño facilita la gestión y el procesamiento de los datos, sin comprometer la capacidad de obtener insights significativos.\n"
   ]
  },
  {
   "cell_type": "code",
   "execution_count": 4,
   "metadata": {},
   "outputs": [],
   "source": [
    "\n",
    "pdf_subset = pdf.head(1000)"
   ]
  },
  {
   "cell_type": "markdown",
   "metadata": {},
   "source": [
    "# InputExample en sentence-transformers\n",
    "\n",
    "La clase `InputExample` en la biblioteca `sentence-transformers` se utiliza para encapsular un par o una tríada de oraciones que pueden ser utilizadas durante el entrenamiento o la evaluación de modelos de transformadores de oraciones."
   ]
  },
  {
   "cell_type": "code",
   "execution_count": 5,
   "metadata": {},
   "outputs": [],
   "source": [
    "\n",
    "def example_create_fn(doc1: pd.Series) -> InputExample:\n",
    "    \"\"\"\n",
    "    Helper function that outputs a sentence_transformer guid, label, and text\n",
    "    \"\"\"\n",
    "    return InputExample(texts=[doc1])"
   ]
  },
  {
   "cell_type": "code",
   "execution_count": 6,
   "metadata": {},
   "outputs": [],
   "source": [
    "faiss_train_examples = pdf_subset.apply(\n",
    "        lambda x: example_create_fn(x[\"title\"]), axis=1\n",
    "    ).tolist()\n",
    "\n",
    "# faiss_train_examples"
   ]
  },
  {
   "cell_type": "markdown",
   "metadata": {},
   "source": [
    "Cargamos el modelo de embedding"
   ]
  },
  {
   "cell_type": "code",
   "execution_count": 7,
   "metadata": {},
   "outputs": [
    {
     "name": "stderr",
     "output_type": "stream",
     "text": [
      "Downloading (…)e9125/.gitattributes: 100%|██████████| 1.18k/1.18k [00:00<?, ?B/s]\n",
      "Downloading (…)_Pooling/config.json: 100%|██████████| 190/190 [00:00<?, ?B/s] \n",
      "Downloading (…)7e55de9125/README.md: 100%|██████████| 10.6k/10.6k [00:00<00:00, 10.6MB/s]\n",
      "Downloading (…)55de9125/config.json: 100%|██████████| 612/612 [00:00<00:00, 606kB/s]\n",
      "Downloading (…)ce_transformers.json: 100%|██████████| 116/116 [00:00<?, ?B/s] \n",
      "Downloading (…)125/data_config.json: 100%|██████████| 39.3k/39.3k [00:00<00:00, 4.36MB/s]\n",
      "Downloading pytorch_model.bin: 100%|██████████| 90.9M/90.9M [00:11<00:00, 7.72MB/s]\n",
      "Downloading (…)nce_bert_config.json: 100%|██████████| 53.0/53.0 [00:00<?, ?B/s]\n",
      "Downloading (…)cial_tokens_map.json: 100%|██████████| 112/112 [00:00<00:00, 115kB/s]\n",
      "Downloading (…)e9125/tokenizer.json: 100%|██████████| 466k/466k [00:00<00:00, 3.79MB/s]\n",
      "Downloading (…)okenizer_config.json: 100%|██████████| 350/350 [00:00<?, ?B/s] \n",
      "Downloading (…)9125/train_script.py: 100%|██████████| 13.2k/13.2k [00:00<00:00, 13.1MB/s]\n",
      "Downloading (…)7e55de9125/vocab.txt: 100%|██████████| 232k/232k [00:00<00:00, 8.27MB/s]\n",
      "Downloading (…)5de9125/modules.json: 100%|██████████| 349/349 [00:00<00:00, 349kB/s]\n"
     ]
    }
   ],
   "source": [
    "model = SentenceTransformer(\n",
    "    \"all-MiniLM-L6-v2\", \n",
    "    # cache_folder=\"/path/to/cached/model\" # en caso que se encuentre el modelo persistido\n",
    ") "
   ]
  },
  {
   "cell_type": "code",
   "execution_count": 11,
   "metadata": {},
   "outputs": [],
   "source": [
    "# model.save(\"cache\") # en caso que se necesite persistirlo"
   ]
  },
  {
   "cell_type": "markdown",
   "metadata": {},
   "source": [
    "En esta etapa se realiza el embedding de los títulos y los mismos son llevados a un array de numpy con los valores de los 1000 embeddings"
   ]
  },
  {
   "cell_type": "code",
   "execution_count": 8,
   "metadata": {},
   "outputs": [],
   "source": [
    "faiss_title_embedding = model.encode(pdf_subset.title.values.tolist())"
   ]
  },
  {
   "cell_type": "code",
   "execution_count": 9,
   "metadata": {},
   "outputs": [
    {
     "data": {
      "text/plain": [
       "array([[-0.1127055 ,  0.04076543,  0.02181415, ..., -0.01874593,\n",
       "        -0.03136873,  0.06824834],\n",
       "       [-0.02187163, -0.03349993,  0.07321806, ...,  0.03362318,\n",
       "        -0.00563887, -0.00630977],\n",
       "       [ 0.01608372,  0.00279446, -0.01504419, ..., -0.00706242,\n",
       "         0.00905902, -0.02835053],\n",
       "       ...,\n",
       "       [ 0.01506926,  0.04583021, -0.06114504, ..., -0.07814189,\n",
       "        -0.08025027,  0.0133782 ],\n",
       "       [-0.07082238,  0.00643821,  0.00809323, ..., -0.05520817,\n",
       "        -0.03652047,  0.07594131],\n",
       "       [-0.06321976,  0.04461518, -0.07385813, ...,  0.06559422,\n",
       "         0.0327676 ,  0.09070992]], dtype=float32)"
      ]
     },
     "execution_count": 9,
     "metadata": {},
     "output_type": "execute_result"
    }
   ],
   "source": [
    "faiss_title_embedding"
   ]
  },
  {
   "cell_type": "markdown",
   "metadata": {},
   "source": [
    "Cada embedding representa un vector multidimensional de 384 componentes para este modelo en particular, mientras que para modelos más grandes los espacios de dimensiones de embeddings pueden superar los miles"
   ]
  },
  {
   "cell_type": "code",
   "execution_count": 10,
   "metadata": {},
   "outputs": [
    {
     "data": {
      "text/plain": [
       "(1000, 384)"
      ]
     },
     "execution_count": 10,
     "metadata": {},
     "output_type": "execute_result"
    }
   ],
   "source": [
    "len(faiss_title_embedding), len(faiss_title_embedding[0])\n"
   ]
  },
  {
   "cell_type": "markdown",
   "metadata": {},
   "source": [
    "Aquí seteamos el índice que vamos a utilizar para poder reconocer cada documento dentro de la base de datos, continúa siendo un DataFrame de pandas"
   ]
  },
  {
   "cell_type": "code",
   "execution_count": 11,
   "metadata": {},
   "outputs": [],
   "source": [
    "pdf_to_index = pdf_subset.set_index([\"id\"], drop=False)"
   ]
  },
  {
   "cell_type": "code",
   "execution_count": 12,
   "metadata": {},
   "outputs": [],
   "source": [
    "id_index = np.array(pdf_to_index.id.values).flatten().astype(\"int\")"
   ]
  },
  {
   "cell_type": "code",
   "execution_count": 13,
   "metadata": {},
   "outputs": [],
   "source": [
    "content_encoded_normalized = faiss_title_embedding.copy()"
   ]
  },
  {
   "cell_type": "code",
   "execution_count": 14,
   "metadata": {},
   "outputs": [
    {
     "data": {
      "text/plain": [
       "array([[-0.1127055 ,  0.04076543,  0.02181415, ..., -0.01874593,\n",
       "        -0.03136873,  0.06824834],\n",
       "       [-0.02187163, -0.03349993,  0.07321806, ...,  0.03362318,\n",
       "        -0.00563887, -0.00630977],\n",
       "       [ 0.01608372,  0.00279446, -0.01504419, ..., -0.00706242,\n",
       "         0.00905902, -0.02835053],\n",
       "       ...,\n",
       "       [ 0.01506926,  0.04583021, -0.06114504, ..., -0.07814189,\n",
       "        -0.08025027,  0.0133782 ],\n",
       "       [-0.07082238,  0.00643821,  0.00809323, ..., -0.05520817,\n",
       "        -0.03652047,  0.07594131],\n",
       "       [-0.06321976,  0.04461518, -0.07385813, ...,  0.06559422,\n",
       "         0.0327676 ,  0.09070992]], dtype=float32)"
      ]
     },
     "execution_count": 14,
     "metadata": {},
     "output_type": "execute_result"
    }
   ],
   "source": [
    "content_encoded_normalized"
   ]
  },
  {
   "cell_type": "code",
   "execution_count": 15,
   "metadata": {},
   "outputs": [],
   "source": [
    "faiss.normalize_L2(content_encoded_normalized)"
   ]
  },
  {
   "cell_type": "markdown",
   "metadata": {},
   "source": [
    "# Uso de faiss.IndexIDMap y faiss.IndexFlatIP en FAISS\n",
    "\n",
    "FAISS (Facebook AI Similarity Search) es una biblioteca diseñada para ayudar en la búsqueda de similitud y la agrupación de vectores grandes. En particular, `faiss.IndexIDMap` y `faiss.IndexFlatIP` son componentes clave para ciertas tareas.\n",
    "\n",
    "## faiss.IndexIDMap\n",
    "\n",
    "`faiss.IndexIDMap` se utiliza para mapear vectores a sus identificadores correspondientes (IDs). Esto es útil cuando se necesita mantener una referencia a los vectores originales en el conjunto de datos. En lugar de solo recuperar los vecinos más cercanos en términos de similitud, `faiss.IndexIDMap` permite que también se devuelvan los IDs asociados.\n",
    "\n",
    "## faiss.IndexFlatIP\n",
    "\n",
    "`faiss.IndexFlatIP` es un índice que utiliza el producto interno (`IP`) para calcular similitudes. Esto es particularmente útil cuando se desea medir la similitud coseno entre vectores, especialmente en tareas como la búsqueda de similitud de texto. El índice proporciona una búsqueda exhaustiva en un espacio vectorial, devolviendo los vecinos más cercanos en términos de similitud de producto interno.\n",
    "\n",
    "En resumen, `faiss.IndexIDMap` ayuda a mantener la correspondencia entre vectores y sus IDs originales, mientras que `faiss.IndexFlatIP` facilita la búsqueda de similitud utilizando el producto interno. La combinación de ambos puede ser poderosa para aplicaciones donde se requiere la búsqueda eficiente de vecinos más cercanos junto con la correspondencia de IDs.\n"
   ]
  },
  {
   "cell_type": "code",
   "execution_count": 16,
   "metadata": {},
   "outputs": [],
   "source": [
    "index_content = faiss.IndexIDMap(faiss.IndexFlatIP(len(faiss_title_embedding[0])))"
   ]
  },
  {
   "cell_type": "code",
   "execution_count": 17,
   "metadata": {},
   "outputs": [],
   "source": [
    "index_content.add_with_ids(content_encoded_normalized, id_index)"
   ]
  },
  {
   "cell_type": "code",
   "execution_count": 18,
   "metadata": {},
   "outputs": [],
   "source": [
    "def search_content(query, pdf_to_index, k=3):\n",
    "    query_vector = model.encode([query])\n",
    "    faiss.normalize_L2(query_vector)\n",
    "\n",
    "    top_k = index_content.search(query_vector, k)\n",
    "    ids = top_k[1][0].tolist()\n",
    "    similarities = top_k[0][0].tolist()\n",
    "    results = pdf_to_index.loc[ids]\n",
    "    results[\"similarities\"] = similarities\n",
    "    return results"
   ]
  },
  {
   "cell_type": "code",
   "execution_count": 28,
   "metadata": {},
   "outputs": [
    {
     "data": {
      "text/html": [
       "<div>\n",
       "<style scoped>\n",
       "    .dataframe tbody tr th:only-of-type {\n",
       "        vertical-align: middle;\n",
       "    }\n",
       "\n",
       "    .dataframe tbody tr th {\n",
       "        vertical-align: top;\n",
       "    }\n",
       "\n",
       "    .dataframe thead th {\n",
       "        text-align: right;\n",
       "    }\n",
       "</style>\n",
       "<table border=\"1\" class=\"dataframe\">\n",
       "  <thead>\n",
       "    <tr style=\"text-align: right;\">\n",
       "      <th></th>\n",
       "      <th>topic</th>\n",
       "      <th>link</th>\n",
       "      <th>domain</th>\n",
       "      <th>published_date</th>\n",
       "      <th>title</th>\n",
       "      <th>lang</th>\n",
       "      <th>id</th>\n",
       "      <th>similarities</th>\n",
       "    </tr>\n",
       "    <tr>\n",
       "      <th>id</th>\n",
       "      <th></th>\n",
       "      <th></th>\n",
       "      <th></th>\n",
       "      <th></th>\n",
       "      <th></th>\n",
       "      <th></th>\n",
       "      <th></th>\n",
       "      <th></th>\n",
       "    </tr>\n",
       "  </thead>\n",
       "  <tbody>\n",
       "    <tr>\n",
       "      <th>213</th>\n",
       "      <td>TECHNOLOGY</td>\n",
       "      <td>https://www.albawaba.com/business/pr/motorola-...</td>\n",
       "      <td>albawaba.com</td>\n",
       "      <td>2020-08-16 12:21:00</td>\n",
       "      <td>Motorola One Fusion - the Perfect Blend of Fea...</td>\n",
       "      <td>en</td>\n",
       "      <td>213</td>\n",
       "      <td>0.612464</td>\n",
       "    </tr>\n",
       "    <tr>\n",
       "      <th>308</th>\n",
       "      <td>TECHNOLOGY</td>\n",
       "      <td>https://www.asiaone.com/digital/motorola-tease...</td>\n",
       "      <td>asiaone.com</td>\n",
       "      <td>2020-08-14 01:41:19</td>\n",
       "      <td>Motorola teases Sept 2020 smartphone launch, D...</td>\n",
       "      <td>en</td>\n",
       "      <td>308</td>\n",
       "      <td>0.603386</td>\n",
       "    </tr>\n",
       "    <tr>\n",
       "      <th>243</th>\n",
       "      <td>TECHNOLOGY</td>\n",
       "      <td>https://www.digitalmarketnews.com/oppo-reno-4-...</td>\n",
       "      <td>digitalmarketnews.com</td>\n",
       "      <td>2020-08-11 09:46:00</td>\n",
       "      <td>Oppo Reno 4 Pro hands-on: Flagship features on...</td>\n",
       "      <td>en</td>\n",
       "      <td>243</td>\n",
       "      <td>0.539917</td>\n",
       "    </tr>\n",
       "  </tbody>\n",
       "</table>\n",
       "</div>"
      ],
      "text/plain": [
       "          topic                                               link  \\\n",
       "id                                                                   \n",
       "213  TECHNOLOGY  https://www.albawaba.com/business/pr/motorola-...   \n",
       "308  TECHNOLOGY  https://www.asiaone.com/digital/motorola-tease...   \n",
       "243  TECHNOLOGY  https://www.digitalmarketnews.com/oppo-reno-4-...   \n",
       "\n",
       "                    domain       published_date  \\\n",
       "id                                                \n",
       "213           albawaba.com  2020-08-16 12:21:00   \n",
       "308            asiaone.com  2020-08-14 01:41:19   \n",
       "243  digitalmarketnews.com  2020-08-11 09:46:00   \n",
       "\n",
       "                                                 title lang   id  similarities  \n",
       "id                                                                              \n",
       "213  Motorola One Fusion - the Perfect Blend of Fea...   en  213      0.612464  \n",
       "308  Motorola teases Sept 2020 smartphone launch, D...   en  308      0.603386  \n",
       "243  Oppo Reno 4 Pro hands-on: Flagship features on...   en  243      0.539917  "
      ]
     },
     "metadata": {},
     "output_type": "display_data"
    }
   ],
   "source": [
    "display(search_content(\"motorola\", pdf_to_index))"
   ]
  },
  {
   "cell_type": "code",
   "execution_count": 20,
   "metadata": {},
   "outputs": [
    {
     "name": "stdout",
     "output_type": "stream",
     "text": [
      "Random: You Can Pick Up and Pet Cats in Assassin's Creed Valhalla\n",
      "Researchers explore social behavior of animals toward emerging infectious diseases\n",
      "Ghostwire: Tokyo confirms dog petting\n"
     ]
    }
   ],
   "source": [
    "result = search_content(\"animal\", pdf_to_index)\n",
    "\n",
    "for id in result.id:\n",
    "    print(result.loc[id, \"title\"])"
   ]
  },
  {
   "cell_type": "code",
   "execution_count": 32,
   "metadata": {},
   "outputs": [
    {
     "name": "stdout",
     "output_type": "stream",
     "text": [
      "Nintendo profit soars as people play more games staying home during the pandemic\n",
      "Teenager Spends Almost $20,000 USD in Twitch Donations With Mother's Debit Card\n",
      "The Fascinating Web Of Entropia Universe, The World’s Only ‘Cash-Based’ MMO\n"
     ]
    }
   ],
   "source": [
    "result = search_content(\"money\", pdf_to_index)\n",
    "\n",
    "for id in result.id:\n",
    "    print(result.loc[id, \"title\"])"
   ]
  },
  {
   "cell_type": "code",
   "execution_count": 31,
   "metadata": {},
   "outputs": [
    {
     "name": "stdout",
     "output_type": "stream",
     "text": [
      "10 Brilliant Video Games That Surprised Everyone - Commenter Edition\n",
      "Skater XL review: skateboarding video game is an overpriced Tony Hawk wannabe\n",
      "A new ‘Call Of Duty’ alternate reality game has launched\n"
     ]
    }
   ],
   "source": [
    "result = search_content(\"videogame\", pdf_to_index)\n",
    "\n",
    "for id in result.id:\n",
    "    print(result.loc[id, \"title\"])"
   ]
  },
  {
   "cell_type": "code",
   "execution_count": 30,
   "metadata": {},
   "outputs": [
    {
     "name": "stdout",
     "output_type": "stream",
     "text": [
      "Sierra Leone: Fears of malaria spike during pandemic\n",
      "Rocket Report: South Korea’s SpaceX dilemma, Rocket Lab finds a quick fix\n",
      "New Guinea named world's most plant-rich island\n"
     ]
    }
   ],
   "source": [
    "result = search_content(\"Colombia\", pdf_to_index)\n",
    "\n",
    "for id in result.id:\n",
    "    print(result.loc[id, \"title\"])"
   ]
  }
 ],
 "metadata": {
  "kernelspec": {
   "display_name": "base",
   "language": "python",
   "name": "python3"
  },
  "language_info": {
   "codemirror_mode": {
    "name": "ipython",
    "version": 3
   },
   "file_extension": ".py",
   "mimetype": "text/x-python",
   "name": "python",
   "nbconvert_exporter": "python",
   "pygments_lexer": "ipython3",
   "version": "3.11.1"
  },
  "orig_nbformat": 4
 },
 "nbformat": 4,
 "nbformat_minor": 2
}
